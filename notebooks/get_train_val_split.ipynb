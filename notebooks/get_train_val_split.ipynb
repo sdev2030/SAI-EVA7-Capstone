{
 "cells": [
  {
   "cell_type": "code",
   "execution_count": 1,
   "id": "da1ccb93",
   "metadata": {},
   "outputs": [
    {
     "data": {
      "text/plain": [
       "'/home/sn/EVA7/capstone/notebooks'"
      ]
     },
     "execution_count": 1,
     "metadata": {},
     "output_type": "execute_result"
    }
   ],
   "source": [
    "pwd"
   ]
  },
  {
   "cell_type": "code",
   "execution_count": 38,
   "id": "fc593451",
   "metadata": {},
   "outputs": [],
   "source": [
    "import glob, re\n",
    "import pandas as pd\n",
    "\n",
    "from sklearn.model_selection import GroupShuffleSplit\n",
    "\n",
    "import shutil"
   ]
  },
  {
   "cell_type": "code",
   "execution_count": 3,
   "id": "7f4577f6",
   "metadata": {},
   "outputs": [],
   "source": [
    "imagepath = '/home/sn/EVA7/capstone/dataset/images/'\n",
    "maskpath = '/home/sn/EVA7/capstone/dataset/masks/'"
   ]
  },
  {
   "cell_type": "code",
   "execution_count": 4,
   "id": "16b0189f",
   "metadata": {},
   "outputs": [],
   "source": [
    "files_list = []\n",
    "for mask_image in glob.glob(maskpath + \"*.jpg\"):\n",
    "    fname = mask_image.rsplit('/', 1)[1]\n",
    "    original_image = imagepath+fname.split('.', 1)[0][:-5]+'.jpg'\n",
    "    defect = fname.split('.', 1)[0][-5:]\n",
    "    files_list.append([defect, mask_image, original_image])\n",
    "#     print(defect, mask_image, original_image)\n",
    "#     break"
   ]
  },
  {
   "cell_type": "code",
   "execution_count": 5,
   "id": "909cbdbd",
   "metadata": {},
   "outputs": [
    {
     "data": {
      "text/plain": [
       "1485"
      ]
     },
     "execution_count": 5,
     "metadata": {},
     "output_type": "execute_result"
    }
   ],
   "source": [
    "len(files_list)"
   ]
  },
  {
   "cell_type": "code",
   "execution_count": 29,
   "id": "19d4bc97",
   "metadata": {},
   "outputs": [
    {
     "data": {
      "text/html": [
       "<div>\n",
       "<style scoped>\n",
       "    .dataframe tbody tr th:only-of-type {\n",
       "        vertical-align: middle;\n",
       "    }\n",
       "\n",
       "    .dataframe tbody tr th {\n",
       "        vertical-align: top;\n",
       "    }\n",
       "\n",
       "    .dataframe thead th {\n",
       "        text-align: right;\n",
       "    }\n",
       "</style>\n",
       "<table border=\"1\" class=\"dataframe\">\n",
       "  <thead>\n",
       "    <tr style=\"text-align: right;\">\n",
       "      <th></th>\n",
       "      <th>defect</th>\n",
       "      <th>mask_file</th>\n",
       "      <th>original_file</th>\n",
       "    </tr>\n",
       "  </thead>\n",
       "  <tbody>\n",
       "    <tr>\n",
       "      <th>0</th>\n",
       "      <td>rebar</td>\n",
       "      <td>/home/sn/EVA7/capstone/dataset/masks/00367reba...</td>\n",
       "      <td>/home/sn/EVA7/capstone/dataset/images/00367.jpg</td>\n",
       "    </tr>\n",
       "    <tr>\n",
       "      <th>1</th>\n",
       "      <td>rebar</td>\n",
       "      <td>/home/sn/EVA7/capstone/dataset/masks/5-6rebar.jpg</td>\n",
       "      <td>/home/sn/EVA7/capstone/dataset/images/5-6.jpg</td>\n",
       "    </tr>\n",
       "    <tr>\n",
       "      <th>2</th>\n",
       "      <td>rebar</td>\n",
       "      <td>/home/sn/EVA7/capstone/dataset/masks/5-4rebar.jpg</td>\n",
       "      <td>/home/sn/EVA7/capstone/dataset/images/5-4.jpg</td>\n",
       "    </tr>\n",
       "    <tr>\n",
       "      <th>3</th>\n",
       "      <td>spall</td>\n",
       "      <td>/home/sn/EVA7/capstone/dataset/masks/001344spa...</td>\n",
       "      <td>/home/sn/EVA7/capstone/dataset/images/001344.jpg</td>\n",
       "    </tr>\n",
       "    <tr>\n",
       "      <th>4</th>\n",
       "      <td>rebar</td>\n",
       "      <td>/home/sn/EVA7/capstone/dataset/masks/764-7reba...</td>\n",
       "      <td>/home/sn/EVA7/capstone/dataset/images/764-7.jpg</td>\n",
       "    </tr>\n",
       "  </tbody>\n",
       "</table>\n",
       "</div>"
      ],
      "text/plain": [
       "  defect                                          mask_file  \\\n",
       "0  rebar  /home/sn/EVA7/capstone/dataset/masks/00367reba...   \n",
       "1  rebar  /home/sn/EVA7/capstone/dataset/masks/5-6rebar.jpg   \n",
       "2  rebar  /home/sn/EVA7/capstone/dataset/masks/5-4rebar.jpg   \n",
       "3  spall  /home/sn/EVA7/capstone/dataset/masks/001344spa...   \n",
       "4  rebar  /home/sn/EVA7/capstone/dataset/masks/764-7reba...   \n",
       "\n",
       "                                      original_file  \n",
       "0   /home/sn/EVA7/capstone/dataset/images/00367.jpg  \n",
       "1     /home/sn/EVA7/capstone/dataset/images/5-6.jpg  \n",
       "2     /home/sn/EVA7/capstone/dataset/images/5-4.jpg  \n",
       "3  /home/sn/EVA7/capstone/dataset/images/001344.jpg  \n",
       "4   /home/sn/EVA7/capstone/dataset/images/764-7.jpg  "
      ]
     },
     "execution_count": 29,
     "metadata": {},
     "output_type": "execute_result"
    }
   ],
   "source": [
    "df_files = pd.DataFrame(files_list,columns=['defect', 'mask_file', 'original_file'])\n",
    "df_files.head()"
   ]
  },
  {
   "cell_type": "code",
   "execution_count": 30,
   "id": "1a970589",
   "metadata": {},
   "outputs": [
    {
     "data": {
      "text/plain": [
       "defect\n",
       "crack    571\n",
       "rebar    603\n",
       "spall    311\n",
       "dtype: int64"
      ]
     },
     "execution_count": 30,
     "metadata": {},
     "output_type": "execute_result"
    }
   ],
   "source": [
    "df_files.groupby(['defect']).size()"
   ]
  },
  {
   "cell_type": "code",
   "execution_count": 31,
   "id": "3acb76dd",
   "metadata": {},
   "outputs": [],
   "source": [
    "## split train and test (80/20 ratio) based on the defect types so they have similar ratio in two splits\n",
    "train = df_files.groupby('defect').sample(frac=.8)\n",
    "test = df_files.loc[df_files.index.difference(train.index)]"
   ]
  },
  {
   "cell_type": "code",
   "execution_count": 32,
   "id": "2ba8848b",
   "metadata": {},
   "outputs": [
    {
     "data": {
      "text/plain": [
       "defect\n",
       "crack    457\n",
       "rebar    482\n",
       "spall    249\n",
       "dtype: int64"
      ]
     },
     "execution_count": 32,
     "metadata": {},
     "output_type": "execute_result"
    }
   ],
   "source": [
    "train.groupby(['defect']).size()"
   ]
  },
  {
   "cell_type": "code",
   "execution_count": 33,
   "id": "a724ec77",
   "metadata": {},
   "outputs": [
    {
     "data": {
      "text/plain": [
       "defect\n",
       "crack    114\n",
       "rebar    121\n",
       "spall     62\n",
       "dtype: int64"
      ]
     },
     "execution_count": 33,
     "metadata": {},
     "output_type": "execute_result"
    }
   ],
   "source": [
    "test.groupby(['defect']).size()"
   ]
  },
  {
   "cell_type": "code",
   "execution_count": 36,
   "id": "6e6d9beb",
   "metadata": {},
   "outputs": [],
   "source": [
    "dest_directory = '/home/sn/EVA7/capstone/dataset/'"
   ]
  },
  {
   "cell_type": "code",
   "execution_count": 42,
   "id": "c8d0ec49",
   "metadata": {},
   "outputs": [],
   "source": [
    "## copy train mask files\n",
    "for fileName in train['mask_file']: \n",
    "    dst_folder = dest_directory+'train_mask/'\n",
    "    shutil.copy2(fileName, dst_folder, follow_symlinks=True)"
   ]
  },
  {
   "cell_type": "code",
   "execution_count": 43,
   "id": "d27960c0",
   "metadata": {},
   "outputs": [],
   "source": [
    "## copy train original files\n",
    "for fileName in train['original_file']: \n",
    "    dst_folder = dest_directory+'train/'\n",
    "    shutil.copy2(fileName, dst_folder, follow_symlinks=True)"
   ]
  },
  {
   "cell_type": "code",
   "execution_count": 44,
   "id": "c6a3d909",
   "metadata": {},
   "outputs": [],
   "source": [
    "## copy test mask files\n",
    "for fileName in test['mask_file']: \n",
    "    dst_folder = dest_directory+'test_mask/'\n",
    "    shutil.copy2(fileName, dst_folder, follow_symlinks=True)"
   ]
  },
  {
   "cell_type": "code",
   "execution_count": 45,
   "id": "42434746",
   "metadata": {},
   "outputs": [],
   "source": [
    "## copy test original files\n",
    "for fileName in test['original_file']: \n",
    "    dst_folder = dest_directory+'test/'\n",
    "    shutil.copy2(fileName, dst_folder, follow_symlinks=True)"
   ]
  },
  {
   "cell_type": "code",
   "execution_count": null,
   "id": "7f824eda",
   "metadata": {},
   "outputs": [],
   "source": []
  }
 ],
 "metadata": {
  "kernelspec": {
   "display_name": "Python 3",
   "language": "python",
   "name": "python3"
  },
  "language_info": {
   "codemirror_mode": {
    "name": "ipython",
    "version": 3
   },
   "file_extension": ".py",
   "mimetype": "text/x-python",
   "name": "python",
   "nbconvert_exporter": "python",
   "pygments_lexer": "ipython3",
   "version": "3.9.7"
  }
 },
 "nbformat": 4,
 "nbformat_minor": 5
}
